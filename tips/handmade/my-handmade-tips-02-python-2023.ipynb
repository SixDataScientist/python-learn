{
 "cells": [
  {
   "cell_type": "code",
   "execution_count": null,
   "id": "2ba56a19",
   "metadata": {},
   "outputs": [
    {
     "data": {
      "text/plain": [
       "[(0, 'red'), (1, 'green'), (2, 'blue'), (3, 'yellow')]"
      ]
     },
     "metadata": {},
     "output_type": "display_data"
    }
   ],
   "source": [
    "colors = ['red', 'green', 'blue', 'yellow']\n",
    "list(enumerate(colors))"
   ]
  },
  {
   "cell_type": "markdown",
   "id": "24b55d7f",
   "metadata": {},
   "source": [
    "## continue and pass"
   ]
  },
  {
   "cell_type": "code",
   "execution_count": null,
   "id": "6489cedb",
   "metadata": {},
   "outputs": [],
   "source": [
    "# continue statement causes the loop to skip the rest of its body for that iteration.\n",
    "# The pass statement is a null operation; nothing happens when it executes."
   ]
  },
  {
   "cell_type": "markdown",
   "id": "00476b70",
   "metadata": {},
   "source": [
    "## Comprehensions"
   ]
  },
  {
   "cell_type": "code",
   "execution_count": null,
   "id": "5d08a846",
   "metadata": {},
   "outputs": [
    {
     "data": {
      "text/plain": [
       "[0, 1, 4, 9, 16, 25, 36, 49, 64, 81]"
      ]
     },
     "metadata": {},
     "output_type": "display_data"
    }
   ],
   "source": [
    "squares = [x**2 for x in range(10)]\n",
    "squares"
   ]
  },
  {
   "cell_type": "code",
   "execution_count": null,
   "id": "3f2183f8",
   "metadata": {},
   "outputs": [
    {
     "data": {
      "text/plain": [
       "[1, 2, 3, 4, 5, 6, 7, 8, 9]"
      ]
     },
     "metadata": {},
     "output_type": "display_data"
    }
   ],
   "source": [
    "matrix = [[1, 2, 3], [4, 5, 6], [7, 8, 9]]\n",
    "flattened = [num for row in matrix for num in row]\n",
    "flattened"
   ]
  },
  {
   "cell_type": "markdown",
   "id": "fa0dd369",
   "metadata": {},
   "source": [
    "## function"
   ]
  },
  {
   "cell_type": "markdown",
   "id": "75a5444b",
   "metadata": {},
   "source": [
    "#### Parameters and Arguments differences:\n",
    "\n",
    "Parameters are used when defining a function. They are the names created in the function definition.\n",
    "Arguments are used when calling a function. They are the values you pass into the function's parameters."
   ]
  },
  {
   "cell_type": "markdown",
   "id": "d4ca1b11",
   "metadata": {},
   "source": [
    "#### Positional Arguments vs Keyword Arguments :\n",
    "However, once you've used a keyword argument, you cannot go back to positional arguments. All positional arguments must come before any keyword arguments:"
   ]
  },
  {
   "cell_type": "code",
   "execution_count": null,
   "id": "9e9cd7a2",
   "metadata": {},
   "outputs": [],
   "source": [
    "def print_purchase(book_title, author, price):\n",
    "    print(f\"Purchased book: {book_title} by {author} for ${price}\")"
   ]
  },
  {
   "cell_type": "code",
   "execution_count": null,
   "id": "09f71e96",
   "metadata": {},
   "outputs": [
    {
     "ename": "SyntaxError",
     "evalue": "positional argument follows keyword argument (3041803314.py, line 1)",
     "output_type": "error",
     "traceback": [
      "\u001b[0;36m  Cell \u001b[0;32mIn[2], line 1\u001b[0;36m\u001b[0m\n",
      "\u001b[0;31m    print_purchase('The Great Gatsby', author='F. Scott Fitzgerald', 12.99)\u001b[0m\n",
      "\u001b[0m                                                                          ^\u001b[0m\n",
      "\u001b[0;31mSyntaxError\u001b[0m\u001b[0;31m:\u001b[0m positional argument follows keyword argument\n"
     ]
    }
   ],
   "source": [
    "print_purchase('The Great Gatsby', author='F. Scott Fitzgerald', 12.99)\n",
    "# SyntaxError: positional argument follows keyword argument"
   ]
  },
  {
   "cell_type": "markdown",
   "id": "405ff0d9",
   "metadata": {},
   "source": [
    "#### default parameters\n",
    "Note that default parameters must follow non-default parameters in the function definition. Attempting to define a default parameter before a non-default one will result in a syntax error:    \n",
    "\n",
    "اگه دیفالت پترامتر دادی باید بعدی ها هم بدی. ولی قبلی هاشو میشه بدی یا ندی."
   ]
  },
  {
   "cell_type": "code",
   "execution_count": null,
   "id": "c28c4324",
   "metadata": {},
   "outputs": [
    {
     "ename": "SyntaxError",
     "evalue": "non-default argument follows default argument (807339484.py, line 1)",
     "output_type": "error",
     "traceback": [
      "\u001b[0;36m  Cell \u001b[0;32mIn[4], line 1\u001b[0;36m\u001b[0m\n",
      "\u001b[0;31m    def user_profile(country='Unknown', name, language='English'):\u001b[0m\n",
      "\u001b[0m                                        ^\u001b[0m\n",
      "\u001b[0;31mSyntaxError\u001b[0m\u001b[0;31m:\u001b[0m non-default argument follows default argument\n"
     ]
    }
   ],
   "source": [
    "def user_profile(country='Unknown', name, language='English'):\n",
    "    print(f\"Name: {name}, Country: {country}, Language: {language}\")"
   ]
  },
  {
   "cell_type": "markdown",
   "id": "53907865",
   "metadata": {},
   "source": [
    "#### Returning Multiple Values\n",
    "These values are packaged into a tuple, enabling you to unpack them into separate variables."
   ]
  },
  {
   "cell_type": "markdown",
   "id": "d2a4eec7",
   "metadata": {},
   "source": [
    "### Function Variable-Length Argument in Python"
   ]
  },
  {
   "cell_type": "code",
   "execution_count": null,
   "id": "7721088d",
   "metadata": {},
   "outputs": [],
   "source": [
    "def concatenate_strings(separator, *args):\n",
    "    return separator.join(args)"
   ]
  },
  {
   "cell_type": "code",
   "execution_count": null,
   "id": "e4a021cc",
   "metadata": {},
   "outputs": [
    {
     "data": {
      "text/plain": [
       "'2023-04-21'"
      ]
     },
     "metadata": {},
     "output_type": "display_data"
    }
   ],
   "source": [
    "# Concatenate with a hyphen separator\n",
    "concatenate_strings(\"-\", \"2023\", \"04\", \"21\")"
   ]
  },
  {
   "cell_type": "code",
   "execution_count": null,
   "id": "743e6d6b",
   "metadata": {},
   "outputs": [],
   "source": [
    "#The ** operator for argument dictionary packing is a staple feature for Python programmers, enabling the creation of highly flexible and adaptable functions. \n",
    "def introduce_yourself(**kwargs):\n",
    "    for key, value in kwargs.items():\n",
    "        print(f\"{key}: {value}\")"
   ]
  },
  {
   "cell_type": "code",
   "execution_count": null,
   "id": "798e6d05",
   "metadata": {},
   "outputs": [
    {
     "name": "stdout",
     "output_type": "stream",
     "text": [
      "name: Alice\n",
      "age: 30\n",
      "profession: Engineer\n"
     ]
    }
   ],
   "source": [
    "# Introducing a person with multiple attributes\n",
    "introduce_yourself(name=\"Alice\", age=30, profession=\"Engineer\")"
   ]
  },
  {
   "cell_type": "code",
   "execution_count": null,
   "id": "f8cbafd4",
   "metadata": {},
   "outputs": [
    {
     "ename": "TypeError",
     "evalue": "display_info() got an unexpected keyword argument 'a'",
     "output_type": "error",
     "traceback": [
      "\u001b[0;31m---------------------------------------------------------------------------\u001b[0m\n",
      "\u001b[0;31mTypeError\u001b[0m                                 Traceback (most recent call last)\n",
      "Cell \u001b[0;32mIn[6], line 5\u001b[0m\n",
      "\u001b[1;32m      3\u001b[0m person_info \u001b[38;5;241m=\u001b[39m {\u001b[38;5;124m'\u001b[39m\u001b[38;5;124mname\u001b[39m\u001b[38;5;124m'\u001b[39m: \u001b[38;5;124m'\u001b[39m\u001b[38;5;124mAlice\u001b[39m\u001b[38;5;124m'\u001b[39m, \u001b[38;5;124m'\u001b[39m\u001b[38;5;124mage\u001b[39m\u001b[38;5;124m'\u001b[39m: \u001b[38;5;241m30\u001b[39m, \u001b[38;5;124m'\u001b[39m\u001b[38;5;124mprofession\u001b[39m\u001b[38;5;124m'\u001b[39m: \u001b[38;5;124m'\u001b[39m\u001b[38;5;124mEngineer\u001b[39m\u001b[38;5;124m'\u001b[39m, \u001b[38;5;124m'\u001b[39m\u001b[38;5;124ma\u001b[39m\u001b[38;5;124m'\u001b[39m: \u001b[38;5;124m'\u001b[39m\u001b[38;5;124mss\u001b[39m\u001b[38;5;124m'\u001b[39m}\n",
      "\u001b[1;32m      4\u001b[0m \u001b[38;5;66;03m# Unpacking the dictionary and passing as keyword arguments\u001b[39;00m\n",
      "\u001b[0;32m----> 5\u001b[0m \u001b[43mdisplay_info\u001b[49m\u001b[43m(\u001b[49m\u001b[38;5;241;43m*\u001b[39;49m\u001b[38;5;241;43m*\u001b[39;49m\u001b[43mperson_info\u001b[49m\u001b[43m)\u001b[49m\n",
      "\n",
      "\u001b[0;31mTypeError\u001b[0m: display_info() got an unexpected keyword argument 'a'"
     ]
    }
   ],
   "source": [
    "def display_info(name, age, profession):\n",
    "    print(f\"Name: {name}, Age: {age}, Profession: {profession}\")\n",
    "person_info = {'name': 'Alice', 'age': 30, 'profession': 'Engineer', 'a': 'ss'}\n",
    "# Unpacking the dictionary and passing as keyword arguments\n",
    "display_info(**person_info)"
   ]
  },
  {
   "cell_type": "markdown",
   "id": "c95f338c",
   "metadata": {},
   "source": [
    "### Function Documentation"
   ]
  },
  {
   "cell_type": "code",
   "execution_count": null,
   "id": "f8452275",
   "metadata": {},
   "outputs": [],
   "source": [
    "def my_function():\n",
    "    \"\"\"This is a simple docstring.\"\"\"\n",
    "    pass"
   ]
  },
  {
   "cell_type": "code",
   "execution_count": null,
   "id": "115c0a5c",
   "metadata": {},
   "outputs": [
    {
     "data": {
      "text/plain": [
       "'This is a simple docstring.'"
      ]
     },
     "metadata": {},
     "output_type": "display_data"
    }
   ],
   "source": [
    "my_function.__doc__"
   ]
  },
  {
   "cell_type": "code",
   "execution_count": null,
   "id": "3b7c09d8",
   "metadata": {},
   "outputs": [
    {
     "name": "stdout",
     "output_type": "stream",
     "text": [
      "Help on function my_function in module __main__:\n",
      "\n",
      "my_function()\n",
      "    This is a simple docstring.\n",
      "\n"
     ]
    }
   ],
   "source": [
    "help(my_function)"
   ]
  },
  {
   "cell_type": "code",
   "execution_count": null,
   "id": "b18ab83e",
   "metadata": {},
   "outputs": [
    {
     "name": "stdout",
     "output_type": "stream",
     "text": [
      "\u001b[0;31mSignature:\u001b[0m \u001b[0mmy_function\u001b[0m\u001b[0;34m(\u001b[0m\u001b[0;34m)\u001b[0m\u001b[0;34m\u001b[0m\u001b[0;34m\u001b[0m\u001b[0m\n",
      "\u001b[0;31mDocstring:\u001b[0m This is a simple docstring.\n",
      "\u001b[0;31mFile:\u001b[0m      /var/folders/sy/gjfhmy2n0pbgx3snlw6vvtg80000gn/T/ipykernel_1201/702788520.py\n",
      "\u001b[0;31mType:\u001b[0m      function"
     ]
    }
   ],
   "source": [
    "my_function?"
   ]
  },
  {
   "cell_type": "markdown",
   "id": "d48bc2c4",
   "metadata": {},
   "source": [
    "#### Annotations and Type Hints\n",
    "\n",
    "Syntax\n",
    "Type hints are added using a colon : after the parameter name followed by the type, and the return type is indicated with an arrow -> followed by the type before the colon ending the function definition."
   ]
  },
  {
   "cell_type": "code",
   "execution_count": null,
   "id": "3583bb27",
   "metadata": {},
   "outputs": [],
   "source": [
    "def greeting(name: str) -> str:\n",
    "    return f\"Hello, {name}\""
   ]
  },
  {
   "cell_type": "markdown",
   "id": "a99bec9f",
   "metadata": {},
   "source": [
    "### lambda"
   ]
  },
  {
   "cell_type": "markdown",
   "id": "4dfb112f",
   "metadata": {},
   "source": [
    "```\n",
    "lambda arguments: expression \n",
    "```\n",
    "\n",
    "Let's break down the components:   \n",
    "`lambda`: This is the keyword that signifies the start of a lambda function.   \n",
    "\n",
    "`arguments`: This is where you specify any number of arguments (parameters) that the lambda function can receive, separated by commas. These work like arguments in a regular function. You can also have lambda functions without any arguments.  \n",
    "\n",
    "`::` The colon separates the arguments from the body of the lambda function.  \n",
    "\n",
    "`expression`: A single line of code that gets evaluated and returned when the lambda function is called. Unlike regular functions, you do not need to include a return statement."
   ]
  },
  {
   "cell_type": "code",
   "execution_count": null,
   "id": "bc90b38d",
   "metadata": {},
   "outputs": [
    {
     "data": {
      "text/plain": [
       "[1, 4, 9, 16, 25]"
      ]
     },
     "metadata": {},
     "output_type": "display_data"
    }
   ],
   "source": [
    "#map() takes a lambda function and an iterable, and returns an iterator that applies the lambda function to every item of the iterable.\n",
    "\n",
    "numbers = [1, 2, 3, 4, 5]\n",
    "squared = map(lambda x: x ** 2, numbers)\n",
    "list(squared)"
   ]
  },
  {
   "cell_type": "code",
   "execution_count": null,
   "id": "a786b316",
   "metadata": {},
   "outputs": [
    {
     "data": {
      "text/plain": [
       "[(4, 'four'), (1, 'one'), (3, 'three'), (2, 'two')]"
      ]
     },
     "metadata": {},
     "output_type": "display_data"
    }
   ],
   "source": [
    "#sort a list of tuples based on the second element:\n",
    "pairs = [(1, 'one'), (2, 'two'), (3, 'three'), (4, 'four')]\n",
    "pairs.sort(key=lambda element: element[1])\n",
    "pairs"
   ]
  },
  {
   "cell_type": "code",
   "execution_count": null,
   "id": "ae2c9ceb",
   "metadata": {},
   "outputs": [
    {
     "data": {
      "text/plain": [
       "'Python is awesome'"
      ]
     },
     "metadata": {},
     "output_type": "display_data"
    }
   ],
   "source": [
    "# A lambda that accepts variable number of keyword arguments\n",
    "merge_strings = lambda **kwargs: \" \".join(kwargs.values())\n",
    "merge_strings(a='Python', b='is', c='awesome')"
   ]
  },
  {
   "cell_type": "code",
   "execution_count": null,
   "id": "8af2fdbf",
   "metadata": {},
   "outputs": [
    {
     "data": {
      "text/plain": [
       "[2, 4, 6, 8]"
      ]
     },
     "metadata": {},
     "output_type": "display_data"
    }
   ],
   "source": [
    "# Using a lambda function to filter out even numbers from a list\n",
    "numbers = [1, 2, 3, 4, 5, 6, 7, 8, 9]\n",
    "even_numbers = filter(lambda x: x % 2 == 0, numbers)\n",
    "list(even_numbers)"
   ]
  }
 ],
 "metadata": {
  "language_info": {
   "name": "python"
  }
 },
 "nbformat": 4,
 "nbformat_minor": 5
}
