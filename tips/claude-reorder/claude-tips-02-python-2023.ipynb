{
 "cells": [
  {
   "cell_type": "markdown",
   "id": "f692be12",
   "metadata": {},
   "source": [
    "# Python Tips and Tricks\n",
    "\n",
    "A comprehensive guide to some of Python's most useful and interesting features.\n",
    "\n",
    "## Table of Contents\n",
    "1. [Enumeration](#Enumeration)\n",
    "2. [Control Flow](#Control-Flow)\n",
    "3. [List Comprehensions](#List-Comprehensions)\n",
    "4. [Functions](#Functions)\n",
    "5. [Lambda Functions](#Lambda-Functions)"
   ]
  },
  {
   "cell_type": "markdown",
   "id": "3e82b4fa",
   "metadata": {},
   "source": [
    "## Enumeration\n",
    "\n",
    "The `enumerate()` function allows you to loop over a list and get both the index and value simultaneously."
   ]
  },
  {
   "cell_type": "code",
   "execution_count": null,
   "id": "59c9b736",
   "metadata": {},
   "outputs": [],
   "source": [
    "colors = ['red', 'green', 'blue', 'yellow']\n",
    "print(list(enumerate(colors)))"
   ]
  },
  {
   "cell_type": "markdown",
   "id": "223c99fd",
   "metadata": {},
   "source": [
    "## Control Flow\n",
    "\n",
    "### `continue` and `pass` Statements\n",
    "\n",
    "- `continue`: Causes the loop to skip the rest of its body for the current iteration\n",
    "- `pass`: A null operation; nothing happens when it executes"
   ]
  },
  {
   "cell_type": "code",
   "execution_count": null,
   "id": "ea483075",
   "metadata": {},
   "outputs": [],
   "source": [
    "# Example of continue\n",
    "for num in range(10):\n",
    "    if num % 2 == 0:\n",
    "        continue\n",
    "    print(num)  # Only prints odd numbers\n",
    "\n",
    "# Example of pass\n",
    "def placeholder_function():\n",
    "    pass  # Function does nothing, but is syntactically valid"
   ]
  },
  {
   "cell_type": "markdown",
   "id": "38c8e6da",
   "metadata": {},
   "source": [
    "## List Comprehensions\n",
    "\n",
    "A concise way to create lists based on existing lists."
   ]
  },
  {
   "cell_type": "code",
   "execution_count": null,
   "id": "a0ab4afb",
   "metadata": {},
   "outputs": [],
   "source": [
    "# Create a list of squares\n",
    "squares = [x**2 for x in range(10)]\n",
    "print(squares)\n",
    "\n",
    "# Flatten a matrix\n",
    "matrix = [[1, 2, 3], [4, 5, 6], [7, 8, 9]]\n",
    "flattened = [num for row in matrix for num in row]\n",
    "print(flattened)"
   ]
  },
  {
   "cell_type": "markdown",
   "id": "63f6eacb",
   "metadata": {},
   "source": [
    "## Functions\n",
    "\n",
    "### Parameters and Arguments\n",
    "\n",
    "- **Parameters**: Names created in the function definition\n",
    "- **Arguments**: Values passed into the function's parameters"
   ]
  },
  {
   "cell_type": "code",
   "execution_count": null,
   "id": "4a651b92",
   "metadata": {},
   "outputs": [],
   "source": [
    "# Function with different types of arguments\n",
    "def print_purchase(book_title, author, price):\n",
    "    print(f\"Purchased book: {book_title} by {author} for ${price}\")\n",
    "\n",
    "# Keyword arguments\n",
    "print_purchase('The Great Gatsby', author='F. Scott Fitzgerald', price=12.99)"
   ]
  },
  {
   "cell_type": "markdown",
   "id": "8f7c9aa8",
   "metadata": {},
   "source": [
    "### Variable-Length Arguments\n",
    "\n",
    "Using `*args` and `**kwargs` for flexible function definitions"
   ]
  },
  {
   "cell_type": "code",
   "execution_count": null,
   "id": "340a78e6",
   "metadata": {},
   "outputs": [],
   "source": [
    "# *args: Variable number of positional arguments\n",
    "def concatenate_strings(separator, *args):\n",
    "    return separator.join(args)\n",
    "\n",
    "print(concatenate_strings(\"-\", \"2023\", \"04\", \"21\"))\n",
    "\n",
    "# **kwargs: Variable number of keyword arguments\n",
    "def introduce_yourself(**kwargs):\n",
    "    for key, value in kwargs.items():\n",
    "        print(f\"{key}: {value}\")\n",
    "\n",
    "introduce_yourself(name=\"Alice\", age=30, profession=\"Engineer\")"
   ]
  },
  {
   "cell_type": "markdown",
   "id": "d8e3aa42",
   "metadata": {},
   "source": [
    "### Type Hints and Annotations"
   ]
  },
  {
   "cell_type": "code",
   "execution_count": null,
   "id": "450549bb",
   "metadata": {},
   "outputs": [],
   "source": [
    "def greeting(name: str) -> str:\n",
    "    \"\"\"A function with type hints\n",
    "    \n",
    "    Args:\n",
    "        name (str): The name to greet\n",
    "    \n",
    "    Returns:\n",
    "        str: A greeting message\n",
    "    \"\"\"\n",
    "    return f\"Hello, {name}\"\n",
    "\n",
    "print(greeting(\"World\"))"
   ]
  },
  {
   "cell_type": "markdown",
   "id": "cf2e2034",
   "metadata": {},
   "source": [
    "## Lambda Functions\n",
    "\n",
    "Anonymous functions for simple operations"
   ]
  },
  {
   "cell_type": "code",
   "execution_count": null,
   "id": "38918358",
   "metadata": {},
   "outputs": [],
   "source": [
    "# Using map() with lambda\n",
    "numbers = [1, 2, 3, 4, 5]\n",
    "squared = list(map(lambda x: x ** 2, numbers))\n",
    "print(squared)\n",
    "\n",
    "# Sorting with lambda\n",
    "pairs = [(1, 'one'), (2, 'two'), (3, 'three'), (4, 'four')]\n",
    "sorted_pairs = sorted(pairs, key=lambda element: element[1])\n",
    "print(sorted_pairs)\n",
    "\n",
    "# Lambda with keyword arguments\n",
    "merge_strings = lambda **kwargs: \" \".join(kwargs.values())\n",
    "print(merge_strings(a='Python', b='is', c='awesome'))\n",
    "\n",
    "# Using filter() with lambda\n",
    "numbers = [1, 2, 3, 4, 5, 6, 7, 8, 9]\n",
    "even_numbers = list(filter(lambda x: x % 2 == 0, numbers))\n",
    "print(even_numbers)"
   ]
  }
 ],
 "metadata": {
  "kernelspec": {
   "display_name": "Python 3",
   "language": "python",
   "name": "python3"
  },
  "language_info": {
   "codemirror_mode": {
    "name": "ipython",
    "version": 3
   },
   "file_extension": ".py",
   "mimetype": "text/x-python",
   "name": "python",
   "nbconvert_exporter": "python",
   "pygments_lexer": "ipython3",
   "version": "3.8.0"
  }
 },
 "nbformat": 4,
 "nbformat_minor": 5
}
