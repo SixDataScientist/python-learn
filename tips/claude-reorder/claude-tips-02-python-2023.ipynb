{
 "cells": [
  {
   "cell_type": "markdown",
   "id": "title-section",
   "metadata": {},
   "source": [
    "# 🐍 Python Advanced Programming Tips\n",
    "\n",
    "A guide to more advanced Python concepts and techniques.\n",
    "\n",
    "## Table of Contents\n",
    "1. [Enumeration](#enumeration)\n",
    "2. [Flow Control](#flow-control)\n",
    "3. [Comprehensions](#comprehensions)\n",
    "4. [Functions](#functions)\n",
    "   - [Parameters vs Arguments](#parameters-arguments)\n",
    "   - [Positional vs Keyword Arguments](#positional-keyword)\n",
    "   - [Default Parameters](#default-parameters)\n",
    "   - [Returning Multiple Values](#returning-multiple)\n",
    "   - [Variable-Length Arguments](#variable-length)\n",
    "   - [Documentation](#documentation)\n",
    "   - [Type Hints](#type-hints)\n",
    "5. [Lambda Functions](#lambda)"
   ]
  },
  {
   "cell_type": "markdown",
   "id": "enumeration-section",
   "metadata": {},
   "source": [
    "## 1. Enumeration <a id=\"enumeration\"></a>\n",
    "\n",
    "The `enumerate()` function adds a counter to an iterable and returns it as an enumerate object."
   ]
  },
  {
   "cell_type": "code",
   "execution_count": null,
   "id": "enumerate-example",
   "metadata": {},
   "outputs": [],
   "source": [
    "colors = ['red', 'green', 'blue', 'yellow']\n",
    "list(enumerate(colors))"
   ]
  },
  {
   "cell_type": "markdown",
   "id": "flow-control-section",
   "metadata": {},
   "source": [
    "## 2. Flow Control <a id=\"flow-control\"></a>\n",
    "\n",
    "### `continue` and `pass` statements"
   ]
  },
  {
   "cell_type": "code",
   "execution_count": null,
   "id": "continue-pass-example",
   "metadata": {},
   "outputs": [],
   "source": [
    "# continue statement causes the loop to skip the rest of its body for that iteration.\n",
    "for i in range(5):\n",
    "    if i == 2:\n",
    "        continue\n",
    "    print(i)  # Will print 0, 1, 3, 4\n",
    "    \n",
    "# The pass statement is a null operation; nothing happens when it executes.\n",
    "for i in range(3):\n",
    "    if i == 1:\n",
    "        pass  # Placeholder for future code\n",
    "    print(i)  # Will print 0, 1, 2"
   ]
  },
  {
   "cell_type": "markdown",
   "id": "comprehensions-section",
   "metadata": {},
   "source": [
    "## 3. Comprehensions <a id=\"comprehensions\"></a>\n",
    "\n",
    "List comprehensions provide a concise way to create lists."
   ]
  },
  {
   "cell_type": "code",
   "execution_count": null,
   "id": "list-comprehension-example",
   "metadata": {},
   "outputs": [],
   "source": [
    "# Create list of squares using comprehension\n",
    "squares = [x**2 for x in range(10)]\n",
    "squares"
   ]
  },
  {
   "cell_type": "code",
   "execution_count": null,
   "id": "nested-comprehension-example",
   "metadata": {},
   "outputs": [],
   "source": [
    "# Flattening a nested list using nested comprehension\n",
    "matrix = [[1, 2, 3], [4, 5, 6], [7, 8, 9]]\n",
    "flattened = [num for row in matrix for num in row]\n",
    "flattened"
   ]
  },
  {
   "cell_type": "markdown",
   "id": "functions-section",
   "metadata": {},
   "source": [
    "## 4. Functions <a id=\"functions\"></a>"
   ]
  },
  {
   "cell_type": "markdown",
   "id": "parameters-arguments-section",
   "metadata": {},
   "source": [
    "### Parameters and Arguments <a id=\"parameters-arguments\"></a>\n",
    "\n",
    "- **Parameters** are used when defining a function. They are the names created in the function definition.\n",
    "- **Arguments** are used when calling a function. They are the values you pass into the function's parameters."
   ]
  },
  {
   "cell_type": "markdown",
   "id": "positional-keyword-section",
   "metadata": {},
   "source": [
    "### Positional Arguments vs Keyword Arguments <a id=\"positional-keyword\"></a>\n",
    "\n",
    "**Important Rule**: Once you've used a keyword argument, you cannot go back to positional arguments. All positional arguments must come before any keyword arguments."
   ]
  },
  {
   "cell_type": "code",
   "execution_count": null,
   "id": "positional-keyword-example",
   "metadata": {},
   "outputs": [],
   "source": [
    "def print_purchase(book_title, author, price):\n",
    "    print(f\"Purchased book: {book_title} by {author} for ${price}\")\n",
    "\n",
    "# Valid: All positional\n",
    "print_purchase(\"The Great Gatsby\", \"F. Scott Fitzgerald\", 12.99)\n",
    "\n",
    "# Valid: Mix of positional and keyword\n",
    "print_purchase(\"The Great Gatsby\", author=\"F. Scott Fitzgerald\", price=12.99)\n",
    "\n",
    "# Invalid: Keyword argument followed by positional\n",
    "try:\n",
    "    print_purchase(\"The Great Gatsby\", author=\"F. Scott Fitzgerald\", 12.99)\n",
    "except SyntaxError as e:\n",
    "    print(\"SyntaxError: positional argument follows keyword argument\")"
   ]
  },
  {
   "cell_type": "markdown",
   "id": "default-parameters-section",
   "metadata": {},
   "source": [
    "### Default Parameters <a id=\"default-parameters\"></a>\n",
    "\n",
    "**Important Rule**: Default parameters must follow non-default parameters in the function definition. Attempting to define a default parameter before a non-default one will result in a syntax error.\n",
    "\n",
    "When you provide default values for parameters, all subsequent parameters must also have default values."
   ]
  },
  {
   "cell_type": "code",
   "execution_count": null,
   "id": "default-parameters-example",
   "metadata": {},
   "outputs": [],
   "source": [
    "# Valid default parameters\n",
    "def user_profile(name, language=\"English\", country=\"Unknown\"):\n",
    "    print(f\"Name: {name}, Country: {country}, Language: {language}\")\n",
    "\n",
    "# Invalid default parameters - will cause SyntaxError\n",
    "try:\n",
    "    def user_profile_invalid(country=\"Unknown\", name, language=\"English\"):\n",
    "        print(f\"Name: {name}, Country: {country}, Language: {language}\")\n",
    "except SyntaxError as e:\n",
    "    print(\"SyntaxError: non-default argument follows default argument\")"
   ]
  },
  {
   "cell_type": "markdown",
   "id": "returning-multiple-section",
   "metadata": {},
   "source": [
    "### Returning Multiple Values <a id=\"returning-multiple\"></a>\n",
    "\n",
    "Python functions can return multiple values. These values are packaged into a tuple, enabling you to unpack them into separate variables."
   ]
  },
  {
   "cell_type": "code",
   "execution_count": null,
   "id": "returning-multiple-example",
   "metadata": {},
   "outputs": [],
   "source": [
    "def get_dimensions():\n",
    "    return 500, 300, 200  # Returns a tuple (500, 300, 200)\n",
    "\n",
    "# Unpacking the returned values\n",
    "width, height, depth = get_dimensions()\n",
    "print(f\"Width: {width}, Height: {height}, Depth: {depth}\")"
   ]
  },
  {
   "cell_type": "markdown",
   "id": "variable-length-section",
   "metadata": {},
   "source": [
    "### Variable-Length Arguments <a id=\"variable-length\"></a>\n",
    "\n",
    "#### Using `*args` (Arbitrary Positional Arguments)"
   ]
  },
  {
   "cell_type": "code",
   "execution_count": null,
   "id": "args-example",
   "metadata": {},
   "outputs": [],
   "source": [
    "def concatenate_strings(separator, *args):\n",
    "    return separator.join(args)\n",
    "\n",
    "# Concatenate with a hyphen separator\n",
    "concatenate_strings(\"-\", \"2023\", \"04\", \"21\")"
   ]
  },
  {
   "cell_type": "markdown",
   "id": "kwargs-section",
   "metadata": {},
   "source": [
    "#### Using `**kwargs` (Arbitrary Keyword Arguments)\n",
    "\n",
    "The `**` operator for argument dictionary packing enables the creation of highly flexible and adaptable functions."
   ]
  },
  {
   "cell_type": "code",
   "execution_count": null,
   "id": "kwargs-example",
   "metadata": {},
   "outputs": [],
   "source": [
    "def introduce_yourself(**kwargs):\n",
    "    for key, value in kwargs.items():\n",
    "        print(f\"{key}: {value}\")\n",
    "\n",
    "# Introducing a person with multiple attributes\n",
    "introduce_yourself(name=\"Alice\", age=30, profession=\"Engineer\")"
   ]
  },
  {
   "cell_type": "markdown",
   "id": "unpacking-kwargs-section",
   "metadata": {},
   "source": [
    "#### Unpacking dictionaries with `**`\n",
    "\n",
    "When unpacking dictionaries with `**`, all keys must match the function's parameters exactly."
   ]
  },
  {
   "cell_type": "code",
   "execution_count": null,
   "id": "unpacking-kwargs-example",
   "metadata": {},
   "outputs": [],
   "source": [
    "def display_info(name, age, profession):\n",
    "    print(f\"Name: {name}, Age: {age}, Profession: {profession}\")\n",
    "    \n",
    "# Dictionary with exact matching keys\n",
    "person_info_valid = {'name': 'Alice', 'age': 30, 'profession': 'Engineer'}\n",
    "display_info(**person_info_valid)  # This works\n",
    "\n",
    "# Dictionary with extra key\n",
    "try:\n",
    "    person_info_invalid = {'name': 'Alice', 'age': 30, 'profession': 'Engineer', 'a': 'ss'}\n",
    "    display_info(**person_info_invalid)  # This raises TypeError\n",
    "except TypeError as e:\n",
    "    print(f\"Error: {e}\")"
   ]
  },
  {
   "cell_type": "markdown",
   "id": "documentation-section",
   "metadata": {},
   "source": [
    "### Function Documentation <a id=\"documentation\"></a>\n",
    "\n",
    "Python functions can be documented using docstrings, which can be accessed programmatically."
   ]
  },
  {
   "cell_type": "code",
   "execution_count": null,
   "id": "docstring-example",
   "metadata": {},
   "outputs": [],
   "source": [
    "def my_function():\n",
    "    \"\"\"This is a simple docstring.\"\"\"\n",
    "    pass\n",
    "\n",
    "# Access the docstring directly\n",
    "my_function.__doc__"
   ]
  },
  {
   "cell_type": "code",
   "execution_count": null,
   "id": "help-example",
   "metadata": {},
   "outputs": [],
   "source": [
    "# Get help information\n",
    "help(my_function)"
   ]
  },
  {
   "cell_type": "code",
   "execution_count": null,
   "id": "question-mark-example",
   "metadata": {},
   "outputs": [],
   "source": [
    "# Jupyter's ? for quick help\n",
    "my_function?"
   ]
  },
  {
   "cell_type": "markdown",
   "id": "type-hints-section",
   "metadata": {},
   "source": [
    "### Type Hints <a id=\"type-hints\"></a>\n",
    "\n",
    "Type hints allow you to specify expected types for function parameters and return values.\n",
    "\n",
    "#### Syntax\n",
    "Type hints are added using a colon `:` after the parameter name followed by the type, and the return type is indicated with an arrow `->` followed by the type before the colon ending the function definition."
   ]
  },
  {
   "cell_type": "code",
   "execution_count": null,
   "id": "type-hints-example",
   "metadata": {},
   "outputs": [],
   "source": [
    "def greeting(name: str) -> str:\n",
    "    return f\"Hello, {name}\"\n",
    "\n",
    "# More complex examples\n",
    "from typing import List, Dict, Tuple, Optional\n",
    "\n",
    "def process_items(items: List[int]) -> Dict[str, int]:\n",
    "    result = {}\n",
    "    for i, item in enumerate(items):\n",
    "        result[f\"item_{i}\"] = item * 2\n",
    "    return result\n",
    "\n",
    "def get_user_info(user_id: int) -> Optional[Tuple[str, int]]:\n",
    "    # Returns None or a tuple of (name, age)\n",
    "    if user_id == 1:\n",
    "        return \"Alice\", 30\n",
    "    return None"
   ]
  },
  {
   "cell_type": "markdown",
   "id": "lambda-section",
   "metadata": {},
   "source": [
    "## 5. Lambda Functions <a id=\"lambda\"></a>\n",
    "\n",
    "Lambda functions (also called anonymous functions) are small, one-line functions defined with the `lambda` keyword.\n",
    "\n",
    "### Syntax\n",
    "```python\n",
    "lambda arguments: expression \n",
    "```\n",
    "\n",
    "#### Components:\n",
    "- `lambda`: Keyword that signifies the start of a lambda function\n",
    "- `arguments`: Parameters that the lambda function can receive (comma-separated)\n",
    "- `:`: Separates the arguments from the body\n",
    "- `expression`: Single line of code that gets evaluated and returned"
   ]
  },
  {
   "cell_type": "code",
   "execution_count": null,
   "id": "lambda-map-example",
   "metadata": {},
   "outputs": [],
   "source": [
    "# Using lambda with map()\n",
    "# map() applies a function to every item in an iterable\n",
    "\n",
    "numbers = [1, 2, 3, 4, 5]\n",
    "squared = map(lambda x: x ** 2, numbers)\n",
    "list(squared)"
   ]
  },
  {
   "cell_type": "code",
   "execution_count": null,
   "id": "lambda-sort-example",
   "metadata": {},
   "outputs": [],
   "source": [
    "# Using lambda as a sort key function\n",
    "# Sort a list of tuples based on the second element\n",
    "pairs = [(1, 'one'), (2, 'two'), (3, 'three'), (4, 'four')]\n",
    "pairs.sort(key=lambda element: element[1])  # Sort by string value\n",
    "pairs"
   ]
  },
  {
   "cell_type": "code",
   "execution_count": null,
   "id": "lambda-kwargs-example",
   "metadata": {},
   "outputs": [],
   "source": [
    "# A lambda that accepts variable number of keyword arguments\n",
    "merge_strings = lambda **kwargs: \" \".join(kwargs.values())\n",
    "merge_strings(a='Python', b='is', c='awesome')"
   ]
  },
  {
   "cell_type": "code",
   "execution_count": null,
   "id": "lambda-filter-example",
   "metadata": {},
   "outputs": [],
   "source": [
    "# Using lambda with filter()\n",
    "# filter() creates an iterator of elements for which a function returns True\n",
    "numbers = [1, 2, 3, 4, 5, 6, 7, 8, 9]\n",
    "even_numbers = filter(lambda x: x % 2 == 0, numbers)\n",
    "list(even_numbers)"
   ]
  }
 ],
 "metadata": {
  "kernelspec": {
   "display_name": "Python 3 (ipykernel)",
   "language": "python",
   "name": "python3"
  },
  "language_info": {
   "codemirror_mode": {
    "name": "ipython",
    "version": 3
   },
   "file_extension": ".py",
   "mimetype": "text/x-python",
   "name": "python",
   "nbconvert_exporter": "python",
   "pygments_lexer": "ipython3",
   "version": "3.10.12"
  }
 },
 "nbformat": 4,
 "nbformat_minor": 5
}