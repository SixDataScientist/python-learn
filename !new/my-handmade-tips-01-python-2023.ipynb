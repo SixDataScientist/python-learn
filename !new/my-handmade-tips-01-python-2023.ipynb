{
 "cells": [
  {
   "cell_type": "code",
   "execution_count": 8,
   "id": "b39b65a3",
   "metadata": {},
   "outputs": [
    {
     "data": {
      "text/plain": [
       "26"
      ]
     },
     "execution_count": 8,
     "metadata": {},
     "output_type": "execute_result"
    }
   ],
   "source": [
    "0b10 + 0o10 + 0x10"
   ]
  },
  {
   "cell_type": "markdown",
   "id": "4bd6abd7",
   "metadata": {},
   "source": [
    "- `Camel Case`: numberOfCollegeGraduates.\n",
    "- `Pascal Case`: NumberOfCollegeGraduates. (class)\n",
    "- `Snake Case`: number_of_college_graduates. \n",
    "\n",
    "PEP 8 (rules search)\n",
    "\n",
    "**Constants in Python**  \n",
    "In python, by convention, constants are written in all capital letters and underscores separating the words. For example:\n",
    "```python\n",
    "PI = 3.14159\n",
    "MAX_SIZE = 100\n",
    "```\n"
   ]
  },
  {
   "cell_type": "markdown",
   "id": "ae3b2446",
   "metadata": {},
   "source": [
    "### <a id='toc3_2_'></a>[Not Understanding Variable References](#toc0_)"
   ]
  },
  {
   "cell_type": "markdown",
   "id": "f98efe57",
   "metadata": {},
   "source": [
    "**Pitfall**: Assigning one variable to another doesn't create a new object. It just creates a new reference to the same object."
   ]
  },
  {
   "cell_type": "code",
   "execution_count": null,
   "id": "c5662f23",
   "metadata": {},
   "outputs": [],
   "source": [
    "a = 10\n",
    "b = a\n",
    "c = b"
   ]
  },
  {
   "cell_type": "code",
   "execution_count": null,
   "id": "54eb363b",
   "metadata": {},
   "outputs": [
    {
     "data": {
      "text/plain": [
       "True"
      ]
     },
     "metadata": {},
     "output_type": "display_data"
    }
   ],
   "source": [
    "a is b"
   ]
  },
  {
   "cell_type": "markdown",
   "id": "7c8106f3-dfbb-456e-9421-9176c9ec73df",
   "metadata": {},
   "source": [
    "### float"
   ]
  },
  {
   "cell_type": "code",
   "execution_count": 29,
   "id": "aefb5a86-b1d5-4e8c-b1ea-5f5744a0d485",
   "metadata": {},
   "outputs": [
    {
     "data": {
      "text/plain": [
       "False"
      ]
     },
     "execution_count": 29,
     "metadata": {},
     "output_type": "execute_result"
    }
   ],
   "source": [
    "0.1 + 0.1 + 0.1 == 0.3"
   ]
  },
  {
   "cell_type": "code",
   "execution_count": 30,
   "id": "62cfaf38-1e31-4c2f-8c58-c8e47a6fc289",
   "metadata": {},
   "outputs": [
    {
     "data": {
      "text/plain": [
       "True"
      ]
     },
     "execution_count": 30,
     "metadata": {},
     "output_type": "execute_result"
    }
   ],
   "source": [
    "import math\n",
    "math.isclose(0.1 + 0.1 + 0.1, 0.3)"
   ]
  },
  {
   "cell_type": "code",
   "execution_count": 10,
   "id": "e48306e8",
   "metadata": {},
   "outputs": [
    {
     "ename": "ValueError",
     "evalue": "invalid literal for int() with base 10: '4.2'",
     "output_type": "error",
     "traceback": [
      "\u001b[0;31m---------------------------------------------------------------------------\u001b[0m",
      "\u001b[0;31mValueError\u001b[0m                                Traceback (most recent call last)",
      "Cell \u001b[0;32mIn[10], line 1\u001b[0m\n\u001b[0;32m----> 1\u001b[0m \u001b[38;5;28mint\u001b[39m(\u001b[38;5;124m'\u001b[39m\u001b[38;5;124m4.2\u001b[39m\u001b[38;5;124m'\u001b[39m)\n",
      "\u001b[0;31mValueError\u001b[0m: invalid literal for int() with base 10: '4.2'"
     ]
    }
   ],
   "source": [
    "int('4.2')"
   ]
  },
  {
   "cell_type": "code",
   "execution_count": 3,
   "id": "aada7d3d",
   "metadata": {},
   "outputs": [
    {
     "data": {
      "text/plain": [
       "float"
      ]
     },
     "execution_count": 3,
     "metadata": {},
     "output_type": "execute_result"
    }
   ],
   "source": [
    "type(4e7)"
   ]
  },
  {
   "cell_type": "markdown",
   "id": "e2b630ec-5732-4f99-b207-e7e5ea359d55",
   "metadata": {},
   "source": [
    "#### operation\n",
    " **Floor Division (`//`)**:\n",
    "   - Example: `7 // 3` results in `2`.   \n",
    "   \n",
    " **Exponentiation (`**`)**:\n",
    "   - Example: `3 ** 2` results in `9`.\n",
    "\n",
    " **Add and assign (`+=`)**:\n",
    "   - Example: `x += 3` is equivalent to `x = x + 3`."
   ]
  },
  {
   "cell_type": "markdown",
   "id": "c05aa576-70cd-4361-8bfb-e34dede8cba8",
   "metadata": {},
   "source": [
    "### string"
   ]
  },
  {
   "cell_type": "code",
   "execution_count": 18,
   "id": "7274dd29-3dbd-45d2-8d1d-5239b5c93ebd",
   "metadata": {},
   "outputs": [
    {
     "name": "stdout",
     "output_type": "stream",
     "text": [
      "\n",
      "This is a\n",
      "string \n",
      "\n",
      "foo\\\\bar\\n\n",
      "C:\\Users\\Bob\\Documents\n",
      "C:\\Users\\Bob\\Documents\n",
      "a b c\n"
     ]
    }
   ],
   "source": [
    "print(\"\"\"\n",
    "This is a\n",
    "string \n",
    "\"\"\")\n",
    "\n",
    "print(r'foo\\\\bar\\n')  # As a raw string\n",
    "path = \"C:\\\\Users\\\\Bob\\\\Documents\"\n",
    "path1 = r\"C:\\Users\\Bob\\Documents\"\n",
    "print(path)\n",
    "print(path1)\n",
    "\n",
    "beshkan = 'a\\\n",
    " b\\\n",
    " c\\\n",
    "'\n",
    "print (beshkan)"
   ]
  },
  {
   "cell_type": "code",
   "execution_count": 15,
   "id": "d797871f-af45-4130-b785-9e9bcbae9478",
   "metadata": {},
   "outputs": [
    {
     "name": "stdout",
     "output_type": "stream",
     "text": [
      "['  hello', 'world  ']\n",
      "8\n",
      "hello,world\n",
      "  hello,Python  \n"
     ]
    }
   ],
   "source": [
    "# String Methods (Strings are not are immutable)\n",
    "text = \"  hello,world  \"\n",
    "print ( text.split(\",\") )\n",
    "print ( text.find(\"world\") )\n",
    "print (text.strip())\n",
    "print ( text.replace(\"world\", \"Python\") )"
   ]
  },
  {
   "cell_type": "markdown",
   "id": "decc1ffd-1e01-4d7f-9f10-29da054b0073",
   "metadata": {},
   "source": [
    "##### Some useful escape sequences include:\n",
    "\n",
    "- `\\t`: Tab\n",
    "- `\\n`: Newline\n",
    "- `\\\\`: Backslash\n",
    "- `\\'`: Single quote\n",
    "- `\\\"`: Double quotee quote"
   ]
  },
  {
   "cell_type": "markdown",
   "id": "33f85817-e6d2-4922-9c49-73fd36da4dac",
   "metadata": {},
   "source": [
    "### Specifying a Stride in a String Slice"
   ]
  },
  {
   "cell_type": "markdown",
   "id": "9fa9c406-cdbb-4810-86f9-4fde07d3eb5a",
   "metadata": {},
   "source": [
    " is `string[start:stop:step]`, where:\n",
    "\n",
    "- `start` is the starting index (**inclusive**).\n",
    "- `stop` is the ending index (**exclusive**).\n",
    "- `step` is the interval between characters."
   ]
  },
  {
   "cell_type": "markdown",
   "id": "bdb1f66f-c63a-4904-8d35-e4e1f9bb94d8",
   "metadata": {},
   "source": [
    "To **reverse** a string, a common approach is:   \n",
    "```python\n",
    "s[::-1]\n",
    "```"
   ]
  },
  {
   "cell_type": "markdown",
   "id": "8ddf46da-6dc9-4696-aa52-d58e6875ba77",
   "metadata": {},
   "source": [
    "### string formatting"
   ]
  },
  {
   "cell_type": "markdown",
   "id": "934d45e9-7a9b-40a0-aa31-0db9de38d5ff",
   "metadata": {},
   "source": [
    "\n",
    "- #### 1: `.format()` method:   \n"
   ]
  },
  {
   "cell_type": "code",
   "execution_count": 17,
   "id": "a59408d3-2632-42da-9847-a8f392d7bd7d",
   "metadata": {},
   "outputs": [
    {
     "name": "stdout",
     "output_type": "stream",
     "text": [
      "In ten years, {name} will be {age} years old.\n",
      "In ten years, Hamidreza will be 32 years old.\n"
     ]
    }
   ],
   "source": [
    "name1 = \"Hamidreza\"\n",
    "age1 = 22\n",
    "template = 'In ten years, {name} will be {age} years old.'\n",
    "print(template)\n",
    "new_rec = template.format(name=name1, age=age1+10)\n",
    "print(new_rec)"
   ]
  },
  {
   "cell_type": "markdown",
   "id": "0a2fb322-053a-48ef-8520-1171f172cd4a",
   "metadata": {},
   "source": [
    "- #### 2:  `f-strings`:   "
   ]
  },
  {
   "cell_type": "code",
   "execution_count": 34,
   "id": "46b7fb62-6894-4f88-a201-e85ff40ba4b0",
   "metadata": {},
   "outputs": [
    {
     "data": {
      "text/plain": [
       "'In ten years, Hamidreza will be 32 years old.'"
      ]
     },
     "execution_count": 34,
     "metadata": {},
     "output_type": "execute_result"
    }
   ],
   "source": [
    "name = \"Hamidreza\"\n",
    "age = 22\n",
    "template = f\"In ten years, {name} will be {age + 10} years old.\"\n",
    "template"
   ]
  },
  {
   "cell_type": "markdown",
   "id": "db743b96-c8b4-4951-b623-c1ac3c4c980f",
   "metadata": {},
   "source": [
    "### list & Tuples"
   ]
  },
  {
   "cell_type": "code",
   "execution_count": 19,
   "id": "e9b837d9-263b-4944-b56e-2fcfbd64ae93",
   "metadata": {},
   "outputs": [],
   "source": [
    "empty_list = list()\n",
    "empty_list = []\n",
    "set_to_list = list({3, 1, 2})\n",
    "none_list = [None] * 10\n",
    "consecutive_numbers = list(range(10))"
   ]
  },
  {
   "cell_type": "code",
   "execution_count": null,
   "id": "0479d591",
   "metadata": {},
   "outputs": [],
   "source": [
    "# Accessing and Modifying List Elements  \n",
    "fruits = ['apple', 'banana', 'cherry', 'date']\n",
    "fruits.append('elderberry')\n",
    "more_fruits = ['fig', 'grape']\n",
    "fruits.extend(more_fruits)\n",
    "fruits.insert(2, 'apricot') #(not efficient)\n",
    "popped_first_fruit = fruits.pop(2) #(not efficient) #index\n",
    "fruits.remove('cherry') #(not efficient) #\n",
    "del fruits[1:3]\n",
    "fruits.index('banana')\n",
    "fruits.count('banana')"
   ]
  },
  {
   "cell_type": "code",
   "execution_count": null,
   "id": "8784ee40-d027-44a5-b1a1-fb1ee37a959a",
   "metadata": {},
   "outputs": [
    {
     "data": {
      "text/plain": [
       "[2, 5, 10, 14, 34]"
      ]
     },
     "execution_count": 26,
     "metadata": {},
     "output_type": "execute_result"
    }
   ],
   "source": [
    "numbers = [10, 2, 34, 14, 5]  \n",
    "#   **sort**  inplace\n",
    "numbers.sort()  \n",
    "#    *new sorted list without altering the original :*  \n",
    "new_num = sorted(numbers)  \n",
    "\n",
    "#   **reverse**  \n",
    "numbers.reverse()  \n",
    "#    *create a new list with the elements:*    \n",
    "list(reversed(numbers))  \n",
    "numbers[::-1]\n",
    "\n"
   ]
  },
  {
   "cell_type": "code",
   "execution_count": null,
   "id": "1246276e-21bc-4710-8d42-35f80705c1c4",
   "metadata": {},
   "outputs": [],
   "source": [
    "numbers = [10, 2, 34, 14, 5]  \n",
    "empty_tuple = ()\n",
    "single_element_tuple = (4,)\n",
    "tuple1 = (1, 2, 3)\n",
    "tuple2 = (4, 5, 6)\n",
    "combined_tuple = tuple1 + tuple2"
   ]
  },
  {
   "cell_type": "markdown",
   "id": "f1ebe55b",
   "metadata": {},
   "source": [
    "## Dictionary"
   ]
  },
  {
   "cell_type": "code",
   "execution_count": 1,
   "id": "c5b38214",
   "metadata": {},
   "outputs": [
    {
     "data": {
      "text/plain": [
       "'Not specified'"
      ]
     },
     "execution_count": 1,
     "metadata": {},
     "output_type": "execute_result"
    }
   ],
   "source": [
    "empty_dict = dict()\n",
    "empty_dict = {}\n",
    "person_info = {'name': 'Alice', 'age': 30, 'city': 'New York'}\n",
    "\n",
    "# Using get() to retrieve a value (Handling Missing Keys with .get() )\n",
    "occupation = person_info.get('occupation', 'Not specified')\n"
   ]
  },
  {
   "cell_type": "code",
   "execution_count": 15,
   "id": "33926d07",
   "metadata": {},
   "outputs": [
    {
     "data": {
      "text/plain": [
       "{'AAPL': 200, 'GOOG': 25, 'TSLA': 50}"
      ]
     },
     "execution_count": 15,
     "metadata": {},
     "output_type": "execute_result"
    }
   ],
   "source": [
    "# Using another dictionary to update\n",
    "portfolio = dict( [ ('AAPL',100), ('GOOG',25) ] ) \n",
    "portfolio.update({'TSLA': 50, 'AAPL': 200})  # Updates 'AAPL' and adds 'TSLA'\n",
    "portfolio"
   ]
  },
  {
   "cell_type": "code",
   "execution_count": 16,
   "id": "2ff01b3c",
   "metadata": {},
   "outputs": [],
   "source": [
    "portfolio ['vnaft'] = '21'\n",
    "# search `fromkeys()` method"
   ]
  },
  {
   "cell_type": "code",
   "execution_count": 8,
   "id": "6580651e",
   "metadata": {},
   "outputs": [
    {
     "data": {
      "text/plain": [
       "{'AAPL': 200, 'GOOG': 25, 'TSLA': 50, 'ALI': '22'}"
      ]
     },
     "execution_count": 8,
     "metadata": {},
     "output_type": "execute_result"
    }
   ],
   "source": [
    "portfolio"
   ]
  },
  {
   "cell_type": "code",
   "execution_count": 10,
   "id": "51f5aa0c",
   "metadata": {},
   "outputs": [],
   "source": [
    "portfolio.update(vnaft=11)"
   ]
  },
  {
   "cell_type": "markdown",
   "id": "37893766",
   "metadata": {},
   "source": [
    "## set"
   ]
  },
  {
   "cell_type": "code",
   "execution_count": 24,
   "id": "cdce493e",
   "metadata": {},
   "outputs": [
    {
     "name": "stdout",
     "output_type": "stream",
     "text": [
      "{'ezafe sho', 'i', '.', 'hello', 'ha', 9, 10, '1', 'am', 'feri', ':))))', '2', '3'}\n"
     ]
    }
   ],
   "source": [
    "\n",
    "empty_set = set()   \n",
    "my_set = set('hello hello i am feri . ha ha ha ha . :)))) '.split())\n",
    "my_set.add('ezafe sho')\n",
    "another_set = {'1', '2', '3'}\n",
    "my_set.update(another_set)\n",
    "my_set |= {9, 10}\n",
    "print (my_set)"
   ]
  },
  {
   "cell_type": "code",
   "execution_count": 26,
   "id": "ce06d00b",
   "metadata": {},
   "outputs": [
    {
     "ename": "KeyError",
     "evalue": "1",
     "output_type": "error",
     "traceback": [
      "\u001b[0;31m---------------------------------------------------------------------------\u001b[0m",
      "\u001b[0;31mKeyError\u001b[0m                                  Traceback (most recent call last)",
      "Cell \u001b[0;32mIn[26], line 2\u001b[0m\n\u001b[1;32m      1\u001b[0m \u001b[38;5;66;03m# if the specified element doesn’t exist in the set, `.remove()` will raise a `KeyError`:\u001b[39;00m\n\u001b[0;32m----> 2\u001b[0m my_set\u001b[38;5;241m.\u001b[39mremove(\u001b[38;5;241m1\u001b[39m)\n",
      "\u001b[0;31mKeyError\u001b[0m: 1"
     ]
    }
   ],
   "source": [
    "# if the specified element doesn’t exist in the set, `.remove()` will raise a `KeyError`:\n",
    "my_set.remove(1)\n"
   ]
  },
  {
   "cell_type": "code",
   "execution_count": 27,
   "id": "f6e5466d",
   "metadata": {},
   "outputs": [],
   "source": [
    "my_set.discard(2)\n",
    "my_set.clear()"
   ]
  },
  {
   "cell_type": "markdown",
   "id": "77e76197",
   "metadata": {},
   "source": [
    "### The search time in set is much better than in list. Because it uses hash."
   ]
  },
  {
   "cell_type": "code",
   "execution_count": 14,
   "id": "3cc04ac0",
   "metadata": {},
   "outputs": [],
   "source": [
    "l = list (range(1000))"
   ]
  },
  {
   "cell_type": "code",
   "execution_count": 11,
   "id": "7dde48b8",
   "metadata": {},
   "outputs": [
    {
     "name": "stdout",
     "output_type": "stream",
     "text": [
      "30.8 ns ± 1.89 ns per loop (mean ± std. dev. of 7 runs, 10,000,000 loops each)\n"
     ]
    }
   ],
   "source": [
    "%%timeit\n",
    "'am' in my_set"
   ]
  },
  {
   "cell_type": "code",
   "execution_count": 13,
   "id": "54cacc1b",
   "metadata": {},
   "outputs": [
    {
     "name": "stdout",
     "output_type": "stream",
     "text": [
      "38.4 ns ± 2.58 ns per loop (mean ± std. dev. of 7 runs, 10,000,000 loops each)\n"
     ]
    }
   ],
   "source": [
    "%%timeit\n",
    "2 in l"
   ]
  },
  {
   "cell_type": "code",
   "execution_count": 28,
   "id": "705e95ef",
   "metadata": {},
   "outputs": [
    {
     "data": {
      "text/plain": [
       "{1, 2, 4, 5}"
      ]
     },
     "execution_count": 28,
     "metadata": {},
     "output_type": "execute_result"
    }
   ],
   "source": [
    "set_a = {1, 2, 3}\n",
    "set_b = {3, 4, 5}\n",
    "# Using the ^ operator (delta)\n",
    "# set_a ^ set_b \n",
    "set_a.symmetric_difference(set_b)"
   ]
  },
  {
   "cell_type": "code",
   "execution_count": null,
   "id": "ea892edc",
   "metadata": {},
   "outputs": [],
   "source": [
    "# Creating a frozenset with elements\n",
    "frozenset([1, 2, 3, 4, 5])"
   ]
  },
  {
   "cell_type": "code",
   "execution_count": 1,
   "id": "71d8967e",
   "metadata": {},
   "outputs": [],
   "source": [
    "# Unpacking the tuple into variables\n",
    "point = (7, 14, 21)\n",
    "x, y, z = point"
   ]
  },
  {
   "cell_type": "code",
   "execution_count": 3,
   "id": "3e68e482",
   "metadata": {},
   "outputs": [
    {
     "name": "stdout",
     "output_type": "stream",
     "text": [
      "Packed NumPy array: [1 2 3 4 5]\n"
     ]
    }
   ],
   "source": [
    "import numpy as np\n",
    "# Packing data into a NumPy array\n",
    "data_array = np.array([1, 2, 3, 4, 5])\n",
    "print(\"Packed NumPy array:\", data_array)"
   ]
  },
  {
   "cell_type": "code",
   "execution_count": 6,
   "id": "1bcb256c",
   "metadata": {},
   "outputs": [
    {
     "name": "stdout",
     "output_type": "stream",
     "text": [
      "First: 1\n",
      "_: [2, 3, 4, 5]\n",
      "Last: 6\n"
     ]
    }
   ],
   "source": [
    "# A tuple with several values\n",
    "numbers = (1, 2, 3, 4, 5, 6)\n",
    "# Unpacking the first and the last value, capturing the rest in the _\n",
    "first, *_, last = numbers\n",
    "print(\"First:\", first)\n",
    "print(\"_:\", _)\n",
    "print(\"Last:\", last)"
   ]
  },
  {
   "cell_type": "code",
   "execution_count": 7,
   "id": "784b483c",
   "metadata": {},
   "outputs": [],
   "source": [
    "### Unpacking Dictionaries\n",
    "student_grades_1 = {'Math': 90, 'English': 92}\n",
    "student_grades_2 = {'Science': 88, 'History': 94}\n",
    "# Merging both dictionaries into a new one\n",
    "combined_grades = {**student_grades_1, **student_grades_2}\n"
   ]
  },
  {
   "cell_type": "code",
   "execution_count": 4,
   "id": "3ddd218f",
   "metadata": {},
   "outputs": [],
   "source": [
    "# Explicit Line Continuation\n",
    "z, x, c, v = 1,2,3,4\n",
    "tot = x + z + \\\n",
    "        + c + v\n",
    "\n",
    "# A lengthy string\n",
    "long_string = \"This is a really long string that just keeps going \" \\\n",
    "              \"and going and doesn't seem to stop anywhere soon.\"\n",
    "\n",
    "#Docstrings\n",
    "def add(a, b):\n",
    "    \"\"\"\n",
    "    Add two numbers and return the result.\n",
    "\n",
    "    Parameters:\n",
    "    a (int): The first number to add.\n",
    "    b (int): The second number to add.\n",
    "\n",
    "    Returns:\n",
    "    int: The sum of a and b.\n",
    "    \"\"\"\n",
    "    return a + b"
   ]
  },
  {
   "cell_type": "code",
   "execution_count": null,
   "id": "9fc1b2e8",
   "metadata": {},
   "outputs": [],
   "source": []
  }
 ],
 "metadata": {
  "kernelspec": {
   "display_name": "Python 3 (ipykernel)",
   "language": "python",
   "name": "python3"
  },
  "language_info": {
   "codemirror_mode": {
    "name": "ipython",
    "version": 3
   },
   "file_extension": ".py",
   "mimetype": "text/x-python",
   "name": "python",
   "nbconvert_exporter": "python",
   "pygments_lexer": "ipython3",
   "version": "3.12.2"
  }
 },
 "nbformat": 4,
 "nbformat_minor": 5
}
