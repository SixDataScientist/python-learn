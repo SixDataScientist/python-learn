{
 "cells": [
  {
   "cell_type": "markdown",
   "id": "62afb470-9ad8-41cc-9503-b424318c2b89",
   "metadata": {},
   "source": [
    "# Basic Syntax\n",
    "- A *caaaatiiii* meow\n",
    "  \n",
    "Love **is** bold  \n",
    "really ***very*** important *text*.\n",
    "- Revenue was off the chart.\n",
    "- Profits were higher than ever.\n",
    "This is the first line.  \n",
    "And this is the second line.\n",
    "* Here's the second list item.\n",
    "\n",
    "    > A blockquote would look great below the second list iteitem."
   ]
  },
  {
   "cell_type": "markdown",
   "id": "a90859ff-60cb-434f-92ed-c0fa9f6cb212",
   "metadata": {},
   "source": [
    "### (root directory): \n",
    "cd \n",
    "/"
   ]
  },
  {
   "cell_type": "markdown",
   "id": "74a7b5f8-578a-410e-8851-2e2d118fdfb4",
   "metadata": {},
   "source": [
    "### (tilda = ~)\n",
    "cd ~ = cd /home/feri = cd\n"
   ]
  },
  {
   "cell_type": "markdown",
   "id": "754e7804-f3a7-4eb9-ab1a-2da0fb63f064",
   "metadata": {},
   "source": [
    "### what user\n",
    "whoami"
   ]
  },
  {
   "cell_type": "markdown",
   "id": "0a75aa91-3b6f-4a01-add4-d601ddacdbbc",
   "metadata": {},
   "source": [
    "### print in ternimal:\n",
    "echo \"Hello, World!\" > testfile.txt"
   ]
  },
  {
   "cell_type": "markdown",
   "id": "9271a848-9725-4af0-ad85-ec76031ecdc7",
   "metadata": {},
   "source": [
    "## Switch to root as default user\n",
    "ubuntu2204 config --default-user root  \n",
    "\n",
    "passwd username\n",
    "##  Give Root Privileges to a User\n",
    "sudo usermod -a -G root username"
   ]
  },
  {
   "cell_type": "markdown",
   "id": "730dced3-cb19-4438-b4d3-05e4aa3f667e",
   "metadata": {},
   "source": [
    "## to view the current directory in Windows File Explorer\n",
    "explorer.exe .  \n",
    "**resault:** \\\\wsl$\\Ubuntu-22.04\\home\\feri\n"
   ]
  },
  {
   "cell_type": "markdown",
   "id": "d52d62cc-9b82-4cc2-aca0-f6251a56bf04",
   "metadata": {},
   "source": [
    "### write code in markdown\n",
    "```python\n",
    "x = 2\n",
    "def add():\n",
    "    print('hello world')\n",
    "```"
   ]
  },
  {
   "cell_type": "markdown",
   "id": "9d8e9eb3-957c-4334-b5ea-9be0d774ee12",
   "metadata": {},
   "source": [
    "## conda\n",
    "conda create --name env1_test  \n",
    "conda activate env1_test  \n",
    "conda env list    \n",
    "conda rename -n env1_test env2  \n",
    "conda env remove --name env1_test  \n",
    "conda install python=3.8   \n",
    "\n",
    "conda env export > environment.yml   \n",
    "conda env create -f environment.yml   \n"
   ]
  },
  {
   "cell_type": "markdown",
   "id": "7c8106f3-dfbb-456e-9421-9176c9ec73df",
   "metadata": {},
   "source": [
    "### float"
   ]
  },
  {
   "cell_type": "code",
   "execution_count": 30,
   "id": "aefb5a86-b1d5-4e8c-b1ea-5f5744a0d485",
   "metadata": {},
   "outputs": [
    {
     "data": {
      "text/plain": [
       "False"
      ]
     },
     "execution_count": 30,
     "metadata": {},
     "output_type": "execute_result"
    }
   ],
   "source": [
    "0.1 + 0.1 + 0.1 == 0.3"
   ]
  },
  {
   "cell_type": "code",
   "execution_count": 31,
   "id": "62cfaf38-1e31-4c2f-8c58-c8e47a6fc289",
   "metadata": {},
   "outputs": [
    {
     "data": {
      "text/plain": [
       "True"
      ]
     },
     "execution_count": 31,
     "metadata": {},
     "output_type": "execute_result"
    }
   ],
   "source": [
    "import math\n",
    "math.isclose(0.1 + 0.1 + 0.1, 0.3)"
   ]
  },
  {
   "cell_type": "markdown",
   "id": "c05aa576-70cd-4361-8bfb-e34dede8cba8",
   "metadata": {},
   "source": [
    "### print "
   ]
  },
  {
   "cell_type": "code",
   "execution_count": 42,
   "id": "7274dd29-3dbd-45d2-8d1d-5239b5c93ebd",
   "metadata": {},
   "outputs": [
    {
     "name": "stdout",
     "output_type": "stream",
     "text": [
      "\n",
      "This is a\n",
      "string \n",
      "\n",
      "foo\\\\bar\n"
     ]
    }
   ],
   "source": [
    "print(\"\"\"\n",
    "This is a\n",
    "string \n",
    "\"\"\")\n",
    "print(r'foo\\\\bar')  # As a raw string"
   ]
  },
  {
   "cell_type": "markdown",
   "id": "decc1ffd-1e01-4d7f-9f10-29da054b0073",
   "metadata": {},
   "source": [
    "##### Some useful escape sequences include:\n",
    "\n",
    "- `\\t`: Tab\n",
    "- `\\n`: Newline\n",
    "- `\\\\`: Backslash\n",
    "- `\\'`: Single quote\n",
    "- `\\\"`: Double quotee quote"
   ]
  },
  {
   "cell_type": "markdown",
   "id": "e2b630ec-5732-4f99-b207-e7e5ea359d55",
   "metadata": {},
   "source": [
    "### operation\n",
    " **Floor Division (`//`)**:\n",
    "   - Divides the left operand by the right operand, rounding down the result to the nearest whole number.\n",
    "   - Example: `7 // 3` results in `2`.   \n",
    "   \n",
    " **Exponentiation (`**`)**:\n",
    "   - Raises the left operand to the power of the right operand.\n",
    "   - Example: `3 ** 2` results in `9`.\n",
    "\n",
    " **Add and assign (`+=`)**:\n",
    "   - Adds the right operand to the left operand and assigns the result to the left operand.\n",
    "   - Example: `x += 3` is equivalent to `x = x + 3`."
   ]
  },
  {
   "cell_type": "markdown",
   "id": "33f85817-e6d2-4922-9c49-73fd36da4dac",
   "metadata": {},
   "source": [
    "### Specifying a Stride in a String Slice\n",
    " is `string[start:stop:step]`, where:\n",
    "\n",
    "- `start` is the starting index (**inclusive**).\n",
    "- `stop` is the ending index (**exclusive**).\n",
    "- `step` is the interval between characters."
   ]
  },
  {
   "cell_type": "markdown",
   "id": "bdb1f66f-c63a-4904-8d35-e4e1f9bb94d8",
   "metadata": {},
   "source": [
    "To **reverse** a string, a common approach is:   \n",
    "```python\n",
    "s[::-1]\n",
    "```"
   ]
  },
  {
   "cell_type": "code",
   "execution_count": null,
   "id": "20a475c1-60dd-42b1-84c9-e0783f71de1c",
   "metadata": {},
   "outputs": [],
   "source": []
  }
 ],
 "metadata": {
  "kernelspec": {
   "display_name": "Python 3 (ipykernel)",
   "language": "python",
   "name": "python3"
  },
  "language_info": {
   "codemirror_mode": {
    "name": "ipython",
    "version": 3
   },
   "file_extension": ".py",
   "mimetype": "text/x-python",
   "name": "python",
   "nbconvert_exporter": "python",
   "pygments_lexer": "ipython3",
   "version": "3.10.5"
  }
 },
 "nbformat": 4,
 "nbformat_minor": 5
}
