{
 "cells": [
  {
   "cell_type": "markdown",
   "id": "5993c642-4f96-482d-bf1b-cde3fca3fa5d",
   "metadata": {},
   "source": [
    "### Basic Syntax"
   ]
  },
  {
   "cell_type": "markdown",
   "id": "62afb470-9ad8-41cc-9503-b424318c2b89",
   "metadata": {},
   "source": [
    "\n",
    "- A *caaaatiiii* meow\n",
    "  \n",
    "Love **is** bold  \n",
    "really ***very*** important *text*.\n",
    "- Revenue was off the chart.\n",
    "- Profits were higher than ever.\n",
    "This is the first line.  \n",
    "And this is the second line.\n",
    "* Here's the second list item.\n",
    "\n",
    "    > A blockquote would look great below the second list iteitem.\n",
    "\n",
    "* write code in markdown\n",
    "```python\n",
    "x = 2\n",
    "def add():\n",
    "    print('hello world')\n",
    "```\n"
   ]
  },
  {
   "cell_type": "markdown",
   "id": "dab99cd4-d06b-4467-b08d-5c0a21420a23",
   "metadata": {},
   "source": [
    "### setup"
   ]
  },
  {
   "cell_type": "markdown",
   "id": "75416dd0-0098-4625-b742-f3007db3cd2a",
   "metadata": {},
   "source": [
    "mac : iterm2  \n",
    "#### windows terminal  \n",
    "install from store  \n",
    "\n",
    "#### wsl  \n",
    "https://learn.microsoft.com/en-us/windows/wsl/install  \n",
    "\n",
    "wsl --update  \n",
    "(https://learn.microsoft.com/en-us/windows/wsl/install-manual#step-4---download-the-linux-kernel-update-package)  \n",
    "wsl --install  \n",
    "wsl --set-default-version 2  \n",
    "wsl --list --verbose  \n",
    "wsl --list --online  \n",
    "wsl --install -d <DistroName>   \n",
    "(wsl --update --web-download) dont do  \n",
    "\n",
    "wsl --set-version Ubuntu-22.04 2  \n",
    "wsl --install -d Ubuntu-22.04\n",
    "\n",
    "method 2   \n",
    "store  \n",
    "\n",
    "\n",
    "#### conda \n",
    "wget https://repo.anaconda.com/miniconda/Miniconda3-latest-Linux-x86_64.sh  \n",
    "bash Miniconda3-latest-Linux-x86_64.sh  \n",
    "\n",
    "\n",
    "\n"
   ]
  },
  {
   "cell_type": "markdown",
   "id": "78e6f489-92ee-41ea-b667-8d9a82e914b6",
   "metadata": {},
   "source": [
    "### linux"
   ]
  },
  {
   "cell_type": "markdown",
   "id": "a90859ff-60cb-434f-92ed-c0fa9f6cb212",
   "metadata": {
    "jp-MarkdownHeadingCollapsed": true
   },
   "source": [
    "cd (change directory)  \n",
    "in wsl: mv /mnt/e/test.txt /mnt/d  \n",
    "pwd (print working directory)  \n",
    "ls (list) \n",
    "git clone https://github.com/pytopia/Python-Programming.git\n",
    "\n",
    "**(root directory):**  \n",
    "cd /  \n",
    "**(home directory):**  \n",
    "(tilda = ~)  \n",
    "cd ~ = cd /home/feri = cd  (mac : cd /Users/feri)     \n",
    "**(what user):**  \n",
    "whoami  \n",
    "**print in ternimal:**\n",
    "echo \"Hello, World!\" > testfile.txt"
   ]
  },
  {
   "cell_type": "markdown",
   "id": "b9e4bb88-ec63-4c06-a73a-43a1ceca6b54",
   "metadata": {},
   "source": [
    "Creating, managing, and manipulating files and directories is a fundamental part of working with the terminal.\n",
    "\n",
    "- `mkdir` creates directories.\n",
    "  - Example: `mkdir new_directory` (Creates a new directory named \"new_directory\").\n",
    "\n",
    "- `touch` creates files.\n",
    "  - Example: `touch new_file.txt` (Creates a new file named \"new_file.txt\").\n",
    "\n",
    "- `rm` removes files and directories.\n",
    "  - Example: `rm file.txt` (Removes the file \"file.txt\").\n",
    "\n",
    "- `rmdir` removes empty directories.\n",
    "  - Example: `rmdir empty_directory` (Removes the empty directory \"empty_  \n",
    "  - rm -r `fully_directory`   directory\").\n",
    "\n",
    "- `cp` copies files and directories.\n",
    "  - Example: `cp file.txt copy_file.txt` (Creates a copy of \"file.txt\" named \"copy_file.txt\").\n",
    "\n",
    "- `mv` moves or renames files and directories.\n",
    "  - Example: `mv file.txt new_directory/` (Moves the file \"file.txt\" to the \"new_directory\" directory).\n",
    "  - Example: `mv file.txt renamed_file.txt` (Renames \"file.txt\" to \"renamed_file.txt\").\n",
    "enamed_file.txt\").\n"
   ]
  },
  {
   "cell_type": "markdown",
   "id": "614e34b0-071e-4343-bdab-5cc0add16005",
   "metadata": {},
   "source": [
    "history  \n",
    "clear  \n",
    "wget  \n",
    "curl \n",
    "conda list | **grep** jupyter"
   ]
  },
  {
   "cell_type": "markdown",
   "id": "69125d27-aa39-43f5-950e-3d1887b8720e",
   "metadata": {},
   "source": [
    "### vscode\n",
    "\n",
    "#### *shortcut*\n",
    "Command Palette: `Ctrl+Shift+P`   \n",
    "hold `alt` to reorder lines  \n",
    " integrated terminal: `Ctrl` + backtick ( ` )\n",
    "#### *comment*\n",
    "ctrl + /"
   ]
  },
  {
   "cell_type": "markdown",
   "id": "9271a848-9725-4af0-ad85-ec76031ecdc7",
   "metadata": {},
   "source": [
    "#### Switch to root as default user\n",
    "ubuntu2204 config --default-user root  \n",
    "\n",
    "passwd username\n",
    "####  Give Root Privileges to a User\n",
    "sudo usermod -a -G root username"
   ]
  },
  {
   "cell_type": "markdown",
   "id": "9a29bef3-b5cc-45ef-8426-75f36e5622c2",
   "metadata": {},
   "source": [
    "### to view the current directory in Windows File Explorer"
   ]
  },
  {
   "cell_type": "markdown",
   "id": "730dced3-cb19-4438-b4d3-05e4aa3f667e",
   "metadata": {},
   "source": [
    "\n",
    "explorer.exe .  \n",
    "**resault:** \\\\wsl$\\Ubuntu-22.04\\home\\feri\n"
   ]
  },
  {
   "cell_type": "markdown",
   "id": "eb378022-b526-40bf-ba36-b3c2fa76318d",
   "metadata": {},
   "source": [
    "### conda"
   ]
  },
  {
   "cell_type": "markdown",
   "id": "9d8e9eb3-957c-4334-b5ea-9be0d774ee12",
   "metadata": {},
   "source": [
    "\n",
    "conda create --name py310 python=3.10  \n",
    "conda activate py310  \n",
    "conda deactivate  \n",
    "conda env list    \n",
    "conda rename -n py310 test_env  \n",
    "conda env remove --name py310  \n",
    "\n",
    "conda install python=3.8   \n",
    "conda update numpy  \n",
    "conda remove numpy  \n",
    "pip install numpy==1.25   \n",
    "\n",
    "conda env export > environment.yml   \n",
    "cat environment.yml  \n",
    "**Creating an Environment from a File**   \n",
    "conda env create -f environment.yml   \n"
   ]
  },
  {
   "cell_type": "markdown",
   "id": "8784ee40-d027-44a5-b1a1-fb1ee37a959a",
   "metadata": {},
   "source": [
    "Using Keyboard Shortcuts   \n",
    "Collapse the Current Region:   \n",
    "Press Ctrl + Shift + [ \n",
    "\n",
    "Expand the Current Region:   \n",
    "Place the cursor inside the collapsed block.   \n",
    "Press Ctrl + Shift + ] \n",
    "\n",
    "Collapse All Regions:   \n",
    "Press Ctrl + K, then Ctrl + 0    \n",
    "Expand All Regions:   \n",
    "Press Ctrl + K, then Ctrl + J    "
   ]
  },
  {
   "cell_type": "markdown",
   "id": "105f3574",
   "metadata": {},
   "source": []
  }
 ],
 "metadata": {
  "kernelspec": {
   "display_name": "Python 3 (ipykernel)",
   "language": "python",
   "name": "python3"
  },
  "language_info": {
   "codemirror_mode": {
    "name": "ipython",
    "version": 3
   },
   "file_extension": ".py",
   "mimetype": "text/x-python",
   "name": "python",
   "nbconvert_exporter": "python",
   "pygments_lexer": "ipython3",
   "version": "3.10.5"
  }
 },
 "nbformat": 4,
 "nbformat_minor": 5
}
